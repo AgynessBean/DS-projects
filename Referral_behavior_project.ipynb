{
 "cells": [
  {
   "cell_type": "markdown",
   "metadata": {},
   "source": [
    "To begin the exercise, I import my most important libraries and do some basic data exploration."
   ]
  },
  {
   "cell_type": "code",
   "execution_count": 1,
   "metadata": {},
   "outputs": [],
   "source": [
    "import pandas as pd\n",
    "import numpy as np\n",
    "import matplotlib.pyplot as plt\n",
    "import seaborn as sb\n",
    "%matplotlib inline"
   ]
  },
  {
   "cell_type": "code",
   "execution_count": 2,
   "metadata": {},
   "outputs": [
    {
     "data": {
      "text/html": [
       "<div>\n",
       "<style scoped>\n",
       "    .dataframe tbody tr th:only-of-type {\n",
       "        vertical-align: middle;\n",
       "    }\n",
       "\n",
       "    .dataframe tbody tr th {\n",
       "        vertical-align: top;\n",
       "    }\n",
       "\n",
       "    .dataframe thead th {\n",
       "        text-align: right;\n",
       "    }\n",
       "</style>\n",
       "<table border=\"1\" class=\"dataframe\">\n",
       "  <thead>\n",
       "    <tr style=\"text-align: right;\">\n",
       "      <th></th>\n",
       "      <th>customer_id</th>\n",
       "      <th>sign_up_date</th>\n",
       "      <th>sign_up_channel</th>\n",
       "    </tr>\n",
       "  </thead>\n",
       "  <tbody>\n",
       "    <tr>\n",
       "      <th>0</th>\n",
       "      <td>2543</td>\n",
       "      <td>2021-04-26</td>\n",
       "      <td>Price Comparison Website</td>\n",
       "    </tr>\n",
       "    <tr>\n",
       "      <th>1</th>\n",
       "      <td>2181</td>\n",
       "      <td>2021-07-24</td>\n",
       "      <td>Referral</td>\n",
       "    </tr>\n",
       "    <tr>\n",
       "      <th>2</th>\n",
       "      <td>2399</td>\n",
       "      <td>2020-10-11</td>\n",
       "      <td>Bulb Website</td>\n",
       "    </tr>\n",
       "    <tr>\n",
       "      <th>3</th>\n",
       "      <td>674</td>\n",
       "      <td>2021-04-04</td>\n",
       "      <td>Referral</td>\n",
       "    </tr>\n",
       "    <tr>\n",
       "      <th>4</th>\n",
       "      <td>2332</td>\n",
       "      <td>2021-09-05</td>\n",
       "      <td>Price Comparison Website</td>\n",
       "    </tr>\n",
       "  </tbody>\n",
       "</table>\n",
       "</div>"
      ],
      "text/plain": [
       "   customer_id sign_up_date           sign_up_channel\n",
       "0         2543   2021-04-26  Price Comparison Website\n",
       "1         2181   2021-07-24                  Referral\n",
       "2         2399   2020-10-11              Bulb Website\n",
       "3          674   2021-04-04                  Referral\n",
       "4         2332   2021-09-05  Price Comparison Website"
      ]
     },
     "execution_count": 2,
     "metadata": {},
     "output_type": "execute_result"
    }
   ],
   "source": [
    "cust = pd.read_csv('180601_Customer_Info.csv')\n",
    "cust.head()"
   ]
  },
  {
   "cell_type": "code",
   "execution_count": 3,
   "metadata": {},
   "outputs": [
    {
     "name": "stdout",
     "output_type": "stream",
     "text": [
      "<class 'pandas.core.frame.DataFrame'>\n",
      "RangeIndex: 1699 entries, 0 to 1698\n",
      "Data columns (total 3 columns):\n",
      "customer_id        1699 non-null int64\n",
      "sign_up_date       1699 non-null object\n",
      "sign_up_channel    1699 non-null object\n",
      "dtypes: int64(1), object(2)\n",
      "memory usage: 39.9+ KB\n"
     ]
    }
   ],
   "source": [
    "cust.info()\n"
   ]
  },
  {
   "cell_type": "code",
   "execution_count": 4,
   "metadata": {},
   "outputs": [
    {
     "name": "stdout",
     "output_type": "stream",
     "text": [
      "0\n",
      "1\n"
     ]
    }
   ],
   "source": [
    "print(cust.duplicated().sum())\n",
    "print(cust['customer_id'].duplicated().sum())\n",
    "#one customer ID duplicate. lets investigate it\n"
   ]
  },
  {
   "cell_type": "code",
   "execution_count": 5,
   "metadata": {},
   "outputs": [
    {
     "data": {
      "text/html": [
       "<div>\n",
       "<style scoped>\n",
       "    .dataframe tbody tr th:only-of-type {\n",
       "        vertical-align: middle;\n",
       "    }\n",
       "\n",
       "    .dataframe tbody tr th {\n",
       "        vertical-align: top;\n",
       "    }\n",
       "\n",
       "    .dataframe thead th {\n",
       "        text-align: right;\n",
       "    }\n",
       "</style>\n",
       "<table border=\"1\" class=\"dataframe\">\n",
       "  <thead>\n",
       "    <tr style=\"text-align: right;\">\n",
       "      <th></th>\n",
       "      <th>customer_id</th>\n",
       "      <th>sign_up_date</th>\n",
       "      <th>sign_up_channel</th>\n",
       "    </tr>\n",
       "  </thead>\n",
       "  <tbody>\n",
       "    <tr>\n",
       "      <th>1380</th>\n",
       "      <td>116</td>\n",
       "      <td>2020-10-27</td>\n",
       "      <td>Bulb Website</td>\n",
       "    </tr>\n",
       "  </tbody>\n",
       "</table>\n",
       "</div>"
      ],
      "text/plain": [
       "      customer_id sign_up_date sign_up_channel\n",
       "1380          116   2020-10-27    Bulb Website"
      ]
     },
     "execution_count": 5,
     "metadata": {},
     "output_type": "execute_result"
    }
   ],
   "source": [
    "#investigate the duplicate\n",
    "cust[cust['customer_id'].duplicated(keep='first')]\n",
    "#let's see if this cutomer_id has been in the list of referrers"
   ]
  },
  {
   "cell_type": "code",
   "execution_count": 6,
   "metadata": {},
   "outputs": [
    {
     "data": {
      "text/html": [
       "<div>\n",
       "<style scoped>\n",
       "    .dataframe tbody tr th:only-of-type {\n",
       "        vertical-align: middle;\n",
       "    }\n",
       "\n",
       "    .dataframe tbody tr th {\n",
       "        vertical-align: top;\n",
       "    }\n",
       "\n",
       "    .dataframe thead th {\n",
       "        text-align: right;\n",
       "    }\n",
       "</style>\n",
       "<table border=\"1\" class=\"dataframe\">\n",
       "  <thead>\n",
       "    <tr style=\"text-align: right;\">\n",
       "      <th></th>\n",
       "      <th>referral_date</th>\n",
       "      <th>referrer_customer_id</th>\n",
       "      <th>sign_up_customer_id</th>\n",
       "    </tr>\n",
       "  </thead>\n",
       "  <tbody>\n",
       "    <tr>\n",
       "      <th>0</th>\n",
       "      <td>2021-07-18</td>\n",
       "      <td>795</td>\n",
       "      <td>1771</td>\n",
       "    </tr>\n",
       "    <tr>\n",
       "      <th>1</th>\n",
       "      <td>2021-04-12</td>\n",
       "      <td>577</td>\n",
       "      <td>1510</td>\n",
       "    </tr>\n",
       "    <tr>\n",
       "      <th>2</th>\n",
       "      <td>2021-07-07</td>\n",
       "      <td>868</td>\n",
       "      <td>1858</td>\n",
       "    </tr>\n",
       "    <tr>\n",
       "      <th>3</th>\n",
       "      <td>2021-10-25</td>\n",
       "      <td>801</td>\n",
       "      <td>1778</td>\n",
       "    </tr>\n",
       "    <tr>\n",
       "      <th>4</th>\n",
       "      <td>2021-08-15</td>\n",
       "      <td>690</td>\n",
       "      <td>1637</td>\n",
       "    </tr>\n",
       "  </tbody>\n",
       "</table>\n",
       "</div>"
      ],
      "text/plain": [
       "  referral_date  referrer_customer_id  sign_up_customer_id\n",
       "0    2021-07-18                   795                 1771\n",
       "1    2021-04-12                   577                 1510\n",
       "2    2021-07-07                   868                 1858\n",
       "3    2021-10-25                   801                 1778\n",
       "4    2021-08-15                   690                 1637"
      ]
     },
     "execution_count": 6,
     "metadata": {},
     "output_type": "execute_result"
    }
   ],
   "source": [
    "ref = pd.read_csv('180601_Referrals_Info.csv')\n",
    "ref.head()\n"
   ]
  },
  {
   "cell_type": "code",
   "execution_count": 7,
   "metadata": {},
   "outputs": [
    {
     "name": "stdout",
     "output_type": "stream",
     "text": [
      "<class 'pandas.core.frame.DataFrame'>\n",
      "RangeIndex: 1000 entries, 0 to 999\n",
      "Data columns (total 3 columns):\n",
      "referral_date           1000 non-null object\n",
      "referrer_customer_id    1000 non-null int64\n",
      "sign_up_customer_id     1000 non-null int64\n",
      "dtypes: int64(2), object(1)\n",
      "memory usage: 23.6+ KB\n"
     ]
    }
   ],
   "source": [
    "ref.info()\n"
   ]
  },
  {
   "cell_type": "code",
   "execution_count": 8,
   "metadata": {},
   "outputs": [
    {
     "name": "stdout",
     "output_type": "stream",
     "text": [
      "0\n",
      "131\n"
     ]
    }
   ],
   "source": [
    "print(ref.duplicated(keep='first').sum())\n",
    "print(ref['referrer_customer_id'].duplicated(keep='first').sum())\n",
    "#there are cutomers who referred multiple new customers"
   ]
  },
  {
   "cell_type": "markdown",
   "metadata": {},
   "source": [
    "Quick test to see if the 'sign_up_customer_id' in ref is a new cutomer that used the referral code"
   ]
  },
  {
   "cell_type": "code",
   "execution_count": 9,
   "metadata": {},
   "outputs": [
    {
     "data": {
      "text/html": [
       "<div>\n",
       "<style scoped>\n",
       "    .dataframe tbody tr th:only-of-type {\n",
       "        vertical-align: middle;\n",
       "    }\n",
       "\n",
       "    .dataframe tbody tr th {\n",
       "        vertical-align: top;\n",
       "    }\n",
       "\n",
       "    .dataframe thead th {\n",
       "        text-align: right;\n",
       "    }\n",
       "</style>\n",
       "<table border=\"1\" class=\"dataframe\">\n",
       "  <thead>\n",
       "    <tr style=\"text-align: right;\">\n",
       "      <th></th>\n",
       "      <th>customer_id</th>\n",
       "      <th>sign_up_date</th>\n",
       "      <th>sign_up_channel</th>\n",
       "    </tr>\n",
       "  </thead>\n",
       "  <tbody>\n",
       "    <tr>\n",
       "      <th>584</th>\n",
       "      <td>163</td>\n",
       "      <td>2021-07-26</td>\n",
       "      <td>Referral</td>\n",
       "    </tr>\n",
       "  </tbody>\n",
       "</table>\n",
       "</div>"
      ],
      "text/plain": [
       "     customer_id sign_up_date sign_up_channel\n",
       "584          163   2021-07-26        Referral"
      ]
     },
     "execution_count": 9,
     "metadata": {},
     "output_type": "execute_result"
    }
   ],
   "source": [
    "#view a random custome_id in the cust set \n",
    "cust[cust['customer_id'] ==163]\n"
   ]
  },
  {
   "cell_type": "code",
   "execution_count": 10,
   "metadata": {},
   "outputs": [
    {
     "data": {
      "text/html": [
       "<div>\n",
       "<style scoped>\n",
       "    .dataframe tbody tr th:only-of-type {\n",
       "        vertical-align: middle;\n",
       "    }\n",
       "\n",
       "    .dataframe tbody tr th {\n",
       "        vertical-align: top;\n",
       "    }\n",
       "\n",
       "    .dataframe thead th {\n",
       "        text-align: right;\n",
       "    }\n",
       "</style>\n",
       "<table border=\"1\" class=\"dataframe\">\n",
       "  <thead>\n",
       "    <tr style=\"text-align: right;\">\n",
       "      <th></th>\n",
       "      <th>referral_date</th>\n",
       "      <th>referrer_customer_id</th>\n",
       "      <th>sign_up_customer_id</th>\n",
       "    </tr>\n",
       "  </thead>\n",
       "  <tbody>\n",
       "    <tr>\n",
       "      <th>852</th>\n",
       "      <td>2021-09-25</td>\n",
       "      <td>163</td>\n",
       "      <td>1039</td>\n",
       "    </tr>\n",
       "  </tbody>\n",
       "</table>\n",
       "</div>"
      ],
      "text/plain": [
       "    referral_date  referrer_customer_id  sign_up_customer_id\n",
       "852    2021-09-25                   163                 1039"
      ]
     },
     "execution_count": 10,
     "metadata": {},
     "output_type": "execute_result"
    }
   ],
   "source": [
    "#see if the same ID appears under the referrer_customer_id (or the sign_up_customer_id)\n",
    "ref[ref['referrer_customer_id'] ==163]\n"
   ]
  },
  {
   "cell_type": "code",
   "execution_count": 11,
   "metadata": {},
   "outputs": [
    {
     "data": {
      "text/html": [
       "<div>\n",
       "<style scoped>\n",
       "    .dataframe tbody tr th:only-of-type {\n",
       "        vertical-align: middle;\n",
       "    }\n",
       "\n",
       "    .dataframe tbody tr th {\n",
       "        vertical-align: top;\n",
       "    }\n",
       "\n",
       "    .dataframe thead th {\n",
       "        text-align: right;\n",
       "    }\n",
       "</style>\n",
       "<table border=\"1\" class=\"dataframe\">\n",
       "  <thead>\n",
       "    <tr style=\"text-align: right;\">\n",
       "      <th></th>\n",
       "      <th>referral_date</th>\n",
       "      <th>referrer_customer_id</th>\n",
       "      <th>sign_up_customer_id</th>\n",
       "    </tr>\n",
       "  </thead>\n",
       "  <tbody>\n",
       "  </tbody>\n",
       "</table>\n",
       "</div>"
      ],
      "text/plain": [
       "Empty DataFrame\n",
       "Columns: [referral_date, referrer_customer_id, sign_up_customer_id]\n",
       "Index: []"
      ]
     },
     "execution_count": 11,
     "metadata": {},
     "output_type": "execute_result"
    }
   ],
   "source": [
    "#and does not appear under signed up customer ID, \n",
    "#which means that signed_customer_ID is the the ID of a new customer\n",
    "#added due to the referral\n",
    "ref[ref['sign_up_customer_id'] ==163]\n"
   ]
  },
  {
   "cell_type": "markdown",
   "metadata": {},
   "source": [
    "Investigate how many customers did not refer (customer_id in cust is not found in referrer_customer_id in ref), and whether there are any customers who have referred, but do not appear in the main dataset (referrer_customer_id exists in ref, but does not exist as customer_id in cust)"
   ]
  },
  {
   "cell_type": "code",
   "execution_count": 12,
   "metadata": {},
   "outputs": [
    {
     "name": "stdout",
     "output_type": "stream",
     "text": [
      "Number of customer IDs absent from the referals (ref) dataset:  997\n",
      "Number of referrer customer IDs absent from the main customer (cust) dataset:  170\n"
     ]
    }
   ],
   "source": [
    "not_ref = cust[~cust['customer_id'].isin(ref ['referrer_customer_id'])]\n",
    "not_cust = ref[~ref['referrer_customer_id'].isin(cust['customer_id'])]\n",
    "\n",
    "print('Number of customer IDs absent from the referals (ref) dataset: ', not_ref.shape[0])\n",
    "print('Number of referrer customer IDs absent from the main customer (cust) dataset: ', not_cust.shape[0])\n"
   ]
  },
  {
   "cell_type": "markdown",
   "metadata": {},
   "source": [
    "Investigate custmer_ID 116 and decide what to do with it."
   ]
  },
  {
   "cell_type": "code",
   "execution_count": 13,
   "metadata": {},
   "outputs": [
    {
     "data": {
      "text/html": [
       "<div>\n",
       "<style scoped>\n",
       "    .dataframe tbody tr th:only-of-type {\n",
       "        vertical-align: middle;\n",
       "    }\n",
       "\n",
       "    .dataframe tbody tr th {\n",
       "        vertical-align: top;\n",
       "    }\n",
       "\n",
       "    .dataframe thead th {\n",
       "        text-align: right;\n",
       "    }\n",
       "</style>\n",
       "<table border=\"1\" class=\"dataframe\">\n",
       "  <thead>\n",
       "    <tr style=\"text-align: right;\">\n",
       "      <th></th>\n",
       "      <th>referral_date</th>\n",
       "      <th>referrer_customer_id</th>\n",
       "      <th>sign_up_customer_id</th>\n",
       "    </tr>\n",
       "  </thead>\n",
       "  <tbody>\n",
       "    <tr>\n",
       "      <th>273</th>\n",
       "      <td>2021-05-16</td>\n",
       "      <td>116</td>\n",
       "      <td>990</td>\n",
       "    </tr>\n",
       "    <tr>\n",
       "      <th>879</th>\n",
       "      <td>2021-05-08</td>\n",
       "      <td>116</td>\n",
       "      <td>1304</td>\n",
       "    </tr>\n",
       "  </tbody>\n",
       "</table>\n",
       "</div>"
      ],
      "text/plain": [
       "    referral_date  referrer_customer_id  sign_up_customer_id\n",
       "273    2021-05-16                   116                  990\n",
       "879    2021-05-08                   116                 1304"
      ]
     },
     "execution_count": 13,
     "metadata": {},
     "output_type": "execute_result"
    }
   ],
   "source": [
    "#check if the duplicate id in cust dataset appears in ref dataset\n",
    "ref[ref['referrer_customer_id'] ==116]\n",
    "#since it does, and it is only one case, \n",
    "#I will remove this customer ID for the sake of the analysis"
   ]
  },
  {
   "cell_type": "markdown",
   "metadata": {},
   "source": [
    "Remove the duplicate ID from both datasets"
   ]
  },
  {
   "cell_type": "code",
   "execution_count": 14,
   "metadata": {},
   "outputs": [
    {
     "data": {
      "text/html": [
       "<div>\n",
       "<style scoped>\n",
       "    .dataframe tbody tr th:only-of-type {\n",
       "        vertical-align: middle;\n",
       "    }\n",
       "\n",
       "    .dataframe tbody tr th {\n",
       "        vertical-align: top;\n",
       "    }\n",
       "\n",
       "    .dataframe thead th {\n",
       "        text-align: right;\n",
       "    }\n",
       "</style>\n",
       "<table border=\"1\" class=\"dataframe\">\n",
       "  <thead>\n",
       "    <tr style=\"text-align: right;\">\n",
       "      <th></th>\n",
       "      <th>customer_id</th>\n",
       "      <th>sign_up_date</th>\n",
       "      <th>sign_up_channel</th>\n",
       "    </tr>\n",
       "  </thead>\n",
       "  <tbody>\n",
       "  </tbody>\n",
       "</table>\n",
       "</div>"
      ],
      "text/plain": [
       "Empty DataFrame\n",
       "Columns: [customer_id, sign_up_date, sign_up_channel]\n",
       "Index: []"
      ]
     },
     "execution_count": 14,
     "metadata": {},
     "output_type": "execute_result"
    }
   ],
   "source": [
    "cust = cust.drop_duplicates('customer_id', keep=False)\n",
    "ref = ref[ref.referrer_customer_id != 116]\n",
    "\n",
    "cust[cust['customer_id'] ==116]"
   ]
  },
  {
   "cell_type": "code",
   "execution_count": 15,
   "metadata": {},
   "outputs": [
    {
     "data": {
      "text/html": [
       "<div>\n",
       "<style scoped>\n",
       "    .dataframe tbody tr th:only-of-type {\n",
       "        vertical-align: middle;\n",
       "    }\n",
       "\n",
       "    .dataframe tbody tr th {\n",
       "        vertical-align: top;\n",
       "    }\n",
       "\n",
       "    .dataframe thead th {\n",
       "        text-align: right;\n",
       "    }\n",
       "</style>\n",
       "<table border=\"1\" class=\"dataframe\">\n",
       "  <thead>\n",
       "    <tr style=\"text-align: right;\">\n",
       "      <th></th>\n",
       "      <th>referral_date</th>\n",
       "      <th>referrer_customer_id</th>\n",
       "      <th>sign_up_customer_id</th>\n",
       "    </tr>\n",
       "  </thead>\n",
       "  <tbody>\n",
       "  </tbody>\n",
       "</table>\n",
       "</div>"
      ],
      "text/plain": [
       "Empty DataFrame\n",
       "Columns: [referral_date, referrer_customer_id, sign_up_customer_id]\n",
       "Index: []"
      ]
     },
     "execution_count": 15,
     "metadata": {},
     "output_type": "execute_result"
    }
   ],
   "source": [
    "ref[ref['referrer_customer_id'] ==116]\n"
   ]
  },
  {
   "cell_type": "code",
   "execution_count": 16,
   "metadata": {},
   "outputs": [
    {
     "data": {
      "text/plain": [
       "130"
      ]
     },
     "execution_count": 16,
     "metadata": {},
     "output_type": "execute_result"
    }
   ],
   "source": [
    "ref['referrer_customer_id'].duplicated().sum()"
   ]
  },
  {
   "cell_type": "markdown",
   "metadata": {},
   "source": [
    "**The minimal exploratory data analysis focused on basic familiarization with the dataset:**\n",
    " - I looked at the general size of datasets and looked at the types of data at my disposal,\n",
    " - I investigated the duplicates,\n",
    " - I answered own questions about the values of some columns,\n",
    " - I made a decision how to deal with duplicates."
   ]
  },
  {
   "cell_type": "markdown",
   "metadata": {},
   "source": [
    "# 0. Feature engineering"
   ]
  },
  {
   "cell_type": "code",
   "execution_count": 26,
   "metadata": {},
   "outputs": [
    {
     "data": {
      "text/html": [
       "<div>\n",
       "<style scoped>\n",
       "    .dataframe tbody tr th:only-of-type {\n",
       "        vertical-align: middle;\n",
       "    }\n",
       "\n",
       "    .dataframe tbody tr th {\n",
       "        vertical-align: top;\n",
       "    }\n",
       "\n",
       "    .dataframe thead th {\n",
       "        text-align: right;\n",
       "    }\n",
       "</style>\n",
       "<table border=\"1\" class=\"dataframe\">\n",
       "  <thead>\n",
       "    <tr style=\"text-align: right;\">\n",
       "      <th></th>\n",
       "      <th>customer_id</th>\n",
       "      <th>sign_up_date</th>\n",
       "      <th>sign_up_channel</th>\n",
       "      <th>year</th>\n",
       "      <th>month</th>\n",
       "      <th>day</th>\n",
       "    </tr>\n",
       "  </thead>\n",
       "  <tbody>\n",
       "    <tr>\n",
       "      <th>0</th>\n",
       "      <td>2543</td>\n",
       "      <td>2021-04-26</td>\n",
       "      <td>Price Comparison Website</td>\n",
       "      <td>2021</td>\n",
       "      <td>4</td>\n",
       "      <td>26</td>\n",
       "    </tr>\n",
       "    <tr>\n",
       "      <th>1</th>\n",
       "      <td>2181</td>\n",
       "      <td>2021-07-24</td>\n",
       "      <td>Referral</td>\n",
       "      <td>2021</td>\n",
       "      <td>7</td>\n",
       "      <td>24</td>\n",
       "    </tr>\n",
       "    <tr>\n",
       "      <th>2</th>\n",
       "      <td>2399</td>\n",
       "      <td>2020-10-11</td>\n",
       "      <td>Bulb Website</td>\n",
       "      <td>2020</td>\n",
       "      <td>10</td>\n",
       "      <td>11</td>\n",
       "    </tr>\n",
       "    <tr>\n",
       "      <th>3</th>\n",
       "      <td>674</td>\n",
       "      <td>2021-04-04</td>\n",
       "      <td>Referral</td>\n",
       "      <td>2021</td>\n",
       "      <td>4</td>\n",
       "      <td>4</td>\n",
       "    </tr>\n",
       "    <tr>\n",
       "      <th>4</th>\n",
       "      <td>2332</td>\n",
       "      <td>2021-09-05</td>\n",
       "      <td>Price Comparison Website</td>\n",
       "      <td>2021</td>\n",
       "      <td>9</td>\n",
       "      <td>5</td>\n",
       "    </tr>\n",
       "    <tr>\n",
       "      <th>5</th>\n",
       "      <td>1893</td>\n",
       "      <td>2021-03-14</td>\n",
       "      <td>Price Comparison Website</td>\n",
       "      <td>2021</td>\n",
       "      <td>3</td>\n",
       "      <td>14</td>\n",
       "    </tr>\n",
       "    <tr>\n",
       "      <th>6</th>\n",
       "      <td>468</td>\n",
       "      <td>2021-06-10</td>\n",
       "      <td>Referral</td>\n",
       "      <td>2021</td>\n",
       "      <td>6</td>\n",
       "      <td>10</td>\n",
       "    </tr>\n",
       "    <tr>\n",
       "      <th>7</th>\n",
       "      <td>2638</td>\n",
       "      <td>2021-12-24</td>\n",
       "      <td>Price Comparison Website</td>\n",
       "      <td>2021</td>\n",
       "      <td>12</td>\n",
       "      <td>24</td>\n",
       "    </tr>\n",
       "    <tr>\n",
       "      <th>8</th>\n",
       "      <td>2110</td>\n",
       "      <td>2021-12-20</td>\n",
       "      <td>Price Comparison Website</td>\n",
       "      <td>2021</td>\n",
       "      <td>12</td>\n",
       "      <td>20</td>\n",
       "    </tr>\n",
       "    <tr>\n",
       "      <th>9</th>\n",
       "      <td>2616</td>\n",
       "      <td>2021-09-29</td>\n",
       "      <td>Referral</td>\n",
       "      <td>2021</td>\n",
       "      <td>9</td>\n",
       "      <td>29</td>\n",
       "    </tr>\n",
       "  </tbody>\n",
       "</table>\n",
       "</div>"
      ],
      "text/plain": [
       "   customer_id sign_up_date           sign_up_channel  year  month  day\n",
       "0         2543   2021-04-26  Price Comparison Website  2021      4   26\n",
       "1         2181   2021-07-24                  Referral  2021      7   24\n",
       "2         2399   2020-10-11              Bulb Website  2020     10   11\n",
       "3          674   2021-04-04                  Referral  2021      4    4\n",
       "4         2332   2021-09-05  Price Comparison Website  2021      9    5\n",
       "5         1893   2021-03-14  Price Comparison Website  2021      3   14\n",
       "6          468   2021-06-10                  Referral  2021      6   10\n",
       "7         2638   2021-12-24  Price Comparison Website  2021     12   24\n",
       "8         2110   2021-12-20  Price Comparison Website  2021     12   20\n",
       "9         2616   2021-09-29                  Referral  2021      9   29"
      ]
     },
     "execution_count": 26,
     "metadata": {},
     "output_type": "execute_result"
    }
   ],
   "source": [
    "cust['year'] = pd.to_datetime(cust['sign_up_date']).dt.year\n",
    "cust['month'] = pd.to_datetime(cust['sign_up_date']).dt.month\n",
    "cust['day'] = pd.to_datetime(cust['sign_up_date']).dt.day\n",
    "cust['sign_up_date'] = pd.to_datetime(cust['sign_up_date'])\n",
    "cust.head(10)"
   ]
  },
  {
   "cell_type": "code",
   "execution_count": 27,
   "metadata": {},
   "outputs": [
    {
     "data": {
      "text/html": [
       "<div>\n",
       "<style scoped>\n",
       "    .dataframe tbody tr th:only-of-type {\n",
       "        vertical-align: middle;\n",
       "    }\n",
       "\n",
       "    .dataframe tbody tr th {\n",
       "        vertical-align: top;\n",
       "    }\n",
       "\n",
       "    .dataframe thead th {\n",
       "        text-align: right;\n",
       "    }\n",
       "</style>\n",
       "<table border=\"1\" class=\"dataframe\">\n",
       "  <thead>\n",
       "    <tr style=\"text-align: right;\">\n",
       "      <th></th>\n",
       "      <th>referral_date</th>\n",
       "      <th>referrer_customer_id</th>\n",
       "      <th>sign_up_customer_id</th>\n",
       "      <th>year</th>\n",
       "      <th>month</th>\n",
       "      <th>day</th>\n",
       "    </tr>\n",
       "  </thead>\n",
       "  <tbody>\n",
       "    <tr>\n",
       "      <th>484</th>\n",
       "      <td>2021-05-29</td>\n",
       "      <td>0</td>\n",
       "      <td>869</td>\n",
       "      <td>2021</td>\n",
       "      <td>5</td>\n",
       "      <td>29</td>\n",
       "    </tr>\n",
       "    <tr>\n",
       "      <th>323</th>\n",
       "      <td>2021-12-23</td>\n",
       "      <td>1</td>\n",
       "      <td>870</td>\n",
       "      <td>2021</td>\n",
       "      <td>12</td>\n",
       "      <td>23</td>\n",
       "    </tr>\n",
       "    <tr>\n",
       "      <th>246</th>\n",
       "      <td>2021-04-10</td>\n",
       "      <td>2</td>\n",
       "      <td>871</td>\n",
       "      <td>2021</td>\n",
       "      <td>4</td>\n",
       "      <td>10</td>\n",
       "    </tr>\n",
       "    <tr>\n",
       "      <th>10</th>\n",
       "      <td>2021-12-30</td>\n",
       "      <td>3</td>\n",
       "      <td>872</td>\n",
       "      <td>2021</td>\n",
       "      <td>12</td>\n",
       "      <td>30</td>\n",
       "    </tr>\n",
       "    <tr>\n",
       "      <th>76</th>\n",
       "      <td>2021-08-16</td>\n",
       "      <td>4</td>\n",
       "      <td>873</td>\n",
       "      <td>2021</td>\n",
       "      <td>8</td>\n",
       "      <td>16</td>\n",
       "    </tr>\n",
       "  </tbody>\n",
       "</table>\n",
       "</div>"
      ],
      "text/plain": [
       "    referral_date  referrer_customer_id  sign_up_customer_id  year  month  day\n",
       "484    2021-05-29                     0                  869  2021      5   29\n",
       "323    2021-12-23                     1                  870  2021     12   23\n",
       "246    2021-04-10                     2                  871  2021      4   10\n",
       "10     2021-12-30                     3                  872  2021     12   30\n",
       "76     2021-08-16                     4                  873  2021      8   16"
      ]
     },
     "execution_count": 27,
     "metadata": {},
     "output_type": "execute_result"
    }
   ],
   "source": [
    "ref['year'] = pd.to_datetime(ref['referral_date']).dt.year\n",
    "ref['month'] = pd.to_datetime(ref['referral_date']).dt.month\n",
    "ref['day'] = pd.to_datetime(ref['referral_date']).dt.day\n",
    "ref['referral_date'] = pd.to_datetime(ref['referral_date'])\n",
    "ref.head()"
   ]
  },
  {
   "cell_type": "markdown",
   "metadata": {},
   "source": [
    "# 1. When do members refer?\n",
    "\n",
    "Investigate how long in their tenure customers make their first referal and how many referrals they make."
   ]
  },
  {
   "cell_type": "markdown",
   "metadata": {},
   "source": [
    "### 1.1 Prep data\n",
    "\n",
    "1. Merge customer database with the referal database. On first referrals only (dataset - strat_1)\n",
    "2. Engineer a time_elapsed variable - time elapsed from sign up up to first referral.\n",
    "3. Create time bins - 30 days into customer tenure, 30< and <60 days into tenure, etc."
   ]
  },
  {
   "cell_type": "code",
   "execution_count": 28,
   "metadata": {},
   "outputs": [
    {
     "name": "stdout",
     "output_type": "stream",
     "text": [
      "Original referral dataset shape:  (998, 6)\n",
      "Only first referral dataset shape:  (868, 6)\n"
     ]
    }
   ],
   "source": [
    "ref = ref.sort_values(['referrer_customer_id','referral_date'])\n",
    "print('Original referral dataset shape: ', ref.shape)\n",
    "\n",
    "first_ref = ref.drop_duplicates('referrer_customer_id', keep='first', inplace=False)\n",
    "print('Only first referral dataset shape: ', first_ref.shape)"
   ]
  },
  {
   "cell_type": "code",
   "execution_count": 29,
   "metadata": {},
   "outputs": [
    {
     "name": "stdout",
     "output_type": "stream",
     "text": [
      "<class 'pandas.core.frame.DataFrame'>\n",
      "Int64Index: 1697 entries, 0 to 1696\n",
      "Data columns (total 13 columns):\n",
      "customer_id             1697 non-null int64\n",
      "sign_up_date            1697 non-null datetime64[ns]\n",
      "sign_up_channel         1697 non-null object\n",
      "year_cust               1697 non-null int64\n",
      "month_cust              1697 non-null int64\n",
      "day_cust                1697 non-null int64\n",
      "referral_date           700 non-null datetime64[ns]\n",
      "referrer_customer_id    700 non-null float64\n",
      "sign_up_customer_id     700 non-null float64\n",
      "year_ref                700 non-null float64\n",
      "month_ref               700 non-null float64\n",
      "day_ref                 700 non-null float64\n",
      "_merge                  1697 non-null category\n",
      "dtypes: category(1), datetime64[ns](2), float64(5), int64(4), object(1)\n",
      "memory usage: 174.1+ KB\n"
     ]
    }
   ],
   "source": [
    "strat_1 = pd.merge(cust, first_ref, left_on='customer_id', how='left', right_on='referrer_customer_id',\n",
    "                  suffixes=('_cust', '_ref'), indicator=True)\n",
    "strat_1.info()"
   ]
  },
  {
   "cell_type": "code",
   "execution_count": 30,
   "metadata": {},
   "outputs": [
    {
     "name": "stdout",
     "output_type": "stream",
     "text": [
      "997 customers did not refer\n"
     ]
    },
    {
     "data": {
      "text/plain": [
       "left_only     997\n",
       "both          700\n",
       "right_only      0\n",
       "Name: _merge, dtype: int64"
      ]
     },
     "execution_count": 30,
     "metadata": {},
     "output_type": "execute_result"
    }
   ],
   "source": [
    "print('997 customers did not refer')\n",
    "strat_1['_merge'].value_counts()"
   ]
  },
  {
   "cell_type": "code",
   "execution_count": 31,
   "metadata": {},
   "outputs": [],
   "source": [
    "strat_1['time_elapsed'] = np.where(strat_1['_merge']=='both', \n",
    "                                  (strat_1['referral_date']-strat_1['sign_up_date']).dt.days, np.NaN)"
   ]
  },
  {
   "cell_type": "code",
   "execution_count": 32,
   "metadata": {},
   "outputs": [
    {
     "name": "stdout",
     "output_type": "stream",
     "text": [
      "Bins: <30 days, 30< & <60 days, <60 & <100 days, <100 & <200 days, <200 & <300 days, <300 & <400 days, <400 & <500 days and >500 days\n"
     ]
    }
   ],
   "source": [
    "print('Bins: <30 days, 30< & <60 days, <60 & <100 days, <100 & <200 days, <200 & <300 days, <300 & <400 days, <400 & <500 days and >500 days')\n",
    "\n",
    "days = ['<30 days', '<60 days', '<100 days', '<200 days', '<300 days', '<400 days', '<500 days', '>500 days']\n",
    "\n",
    "strat_1['time_elapsed_m'] = pd.cut(x=strat_1['time_elapsed'], bins=[-1, 29, 69, \n",
    "                                                                      99, 199, 299, \n",
    "                                                                      399, 499, \n",
    "                                                                      strat_1['time_elapsed'].max()], labels=days)\n",
    "\n",
    "strat_1['time_elapsed_m'] = np.where(strat_1['time_elapsed_m'].isnull()==True, 'No referral', strat_1['time_elapsed_m'])"
   ]
  },
  {
   "cell_type": "markdown",
   "metadata": {},
   "source": [
    "### 1.2 Analysis"
   ]
  },
  {
   "cell_type": "code",
   "execution_count": 33,
   "metadata": {},
   "outputs": [
    {
     "data": {
      "text/plain": [
       "Text(0.5, 0, 'First referal in')"
      ]
     },
     "execution_count": 33,
     "metadata": {},
     "output_type": "execute_result"
    },
    {
     "data": {
      "image/png": "[encoded data removed]",
      "text/plain": [
       "<Figure size 864x432 with 1 Axes>"
      ]
     },
     "metadata": {
      "needs_background": "light"
     },
     "output_type": "display_data"
    }
   ],
   "source": [
    "plt.figure(figsize=(12,6))\n",
    "sb.countplot(data=strat_1, x='time_elapsed_m', color='blue')\n",
    "plt.xticks(rotation=45)\n",
    "plt.title(\"Most referals happen within the first month, or there is no referal\")\n",
    "plt.ylabel('Frequency')\n",
    "plt.xlabel('First referal in')"
   ]
  },
  {
   "cell_type": "markdown",
   "metadata": {},
   "source": [
    "### 1.3 How many times customers make a referal.\n",
    "\n",
    "1. Merge customer database with the referal database. (dataset - strat_2)\n",
    "2. Engineer a referral variable - a dummy variable that for each case marks 1 if customer referred and 0 if not.\n",
    "3. Collapse strat_2 by customer ID to calculate how many times customer i referred."
   ]
  },
  {
   "cell_type": "code",
   "execution_count": 64,
   "metadata": {},
   "outputs": [
    {
     "name": "stdout",
     "output_type": "stream",
     "text": [
      "<class 'pandas.core.frame.DataFrame'>\n",
      "Int64Index: 1825 entries, 0 to 1824\n",
      "Data columns (total 13 columns):\n",
      "customer_id             1825 non-null int64\n",
      "sign_up_date            1825 non-null datetime64[ns]\n",
      "sign_up_channel         1825 non-null object\n",
      "year_cust               1825 non-null int64\n",
      "month_cust              1825 non-null int64\n",
      "day_cust                1825 non-null int64\n",
      "referral_date           828 non-null datetime64[ns]\n",
      "referrer_customer_id    828 non-null float64\n",
      "sign_up_customer_id     828 non-null float64\n",
      "year_ref                828 non-null float64\n",
      "month_ref               828 non-null float64\n",
      "day_ref                 828 non-null float64\n",
      "_merge                  1825 non-null category\n",
      "dtypes: category(1), datetime64[ns](2), float64(5), int64(4), object(1)\n",
      "memory usage: 187.2+ KB\n"
     ]
    }
   ],
   "source": [
    "strat_2 = pd.merge(cust, ref, left_on='customer_id', how='left', right_on='referrer_customer_id',\n",
    "                  suffixes=('_cust', '_ref'), indicator=True)\n",
    "strat_2.info()"
   ]
  },
  {
   "cell_type": "code",
   "execution_count": 65,
   "metadata": {},
   "outputs": [],
   "source": [
    "#vdummy for referal\n",
    "strat_2['referral'] = np.where(strat_2['_merge']=='left_only', 0, 1)"
   ]
  },
  {
   "cell_type": "code",
   "execution_count": 66,
   "metadata": {},
   "outputs": [],
   "source": [
    "#create an overall tenure variable\n",
    "import datetime\n",
    "strat_2['now'] = datetime.datetime(2022,2,3,0,0,0)\n",
    "\n",
    "strat_2['tenure'] = (strat_2['now']-strat_2['sign_up_date']).dt.days\n",
    "\n",
    "strat_2['tenure_m'] = pd.cut(x=strat_2['tenure'], bins=[-1, 29, 69, 99, 199, 299, 399, 499, \n",
    "                                                                      strat_2['tenure'].max()], labels=days)"
   ]
  },
  {
   "cell_type": "code",
   "execution_count": 67,
   "metadata": {},
   "outputs": [],
   "source": [
    "#create a count of referrals variable \n",
    "strat_2['times_referred'] = strat_2.groupby(by='customer_id')['referral'].transform('sum')"
   ]
  },
  {
   "cell_type": "code",
   "execution_count": 68,
   "metadata": {},
   "outputs": [
    {
     "data": {
      "text/plain": [
       "0    997\n",
       "1    828\n",
       "Name: referral, dtype: int64"
      ]
     },
     "execution_count": 68,
     "metadata": {},
     "output_type": "execute_result"
    }
   ],
   "source": [
    "strat_2['referral'].value_counts()"
   ]
  },
  {
   "cell_type": "code",
   "execution_count": 69,
   "metadata": {},
   "outputs": [],
   "source": [
    "table = pd.DataFrame(strat_2.groupby(by='customer_id')['referral'].sum().value_counts())"
   ]
  },
  {
   "cell_type": "markdown",
   "metadata": {},
   "source": [
    "### 1.4 Analysis of referral count"
   ]
  },
  {
   "cell_type": "code",
   "execution_count": 40,
   "metadata": {},
   "outputs": [
    {
     "name": "stderr",
     "output_type": "stream",
     "text": [
      "/usr/local/lib/python3.7/site-packages/ipykernel_launcher.py:6: MatplotlibDeprecationWarning: Non-1D inputs to pie() are currently squeeze()d, but this behavior is deprecated since 3.1 and will be removed in 3.3; pass a 1D array instead.\n",
      "  \n"
     ]
    },
    {
     "data": {
      "text/plain": [
       "Text(0.5, 1.0, 'How many times all customers have refered')"
      ]
     },
     "execution_count": 40,
     "metadata": {},
     "output_type": "execute_result"
    },
    {
     "data": {
      "image/png": "[encoded data removed]",
      "text/plain": [
       "<Figure size 432x288 with 1 Axes>"
      ]
     },
     "metadata": {},
     "output_type": "display_data"
    }
   ],
   "source": [
    "figure, axes = plt.subplots()\n",
    "three_lab = (\"No referral\", \"Once\", \"More than once\", \"\", \"\", \"\", \"\", \"\", \"\", \"\", \"\", \"\")\n",
    "explodeTuple = (0.05, 0.05, 0.6, 0.6, 0.6, 0.6, 0.6, 0.6, 0.6, 0.6, 0.6, 0.6)\n",
    "\n",
    "axes.pie(table, labels=three_lab, startangle=90, explode=explodeTuple)\n",
    "axes.axis('equal')\n",
    "plt.title('How many times all customers have refered')"
   ]
  },
  {
   "cell_type": "code",
   "execution_count": 86,
   "metadata": {},
   "outputs": [
    {
     "data": {
      "image/png": "[encoded data removed]",
      "text/plain": [
       "<Figure size 360x360 with 1 Axes>"
      ]
     },
     "metadata": {
      "needs_background": "light"
     },
     "output_type": "display_data"
    }
   ],
   "source": [
    "sb.catplot(data=strat_2, x='tenure_m', y='times_referred')\n",
    "plt.title('Times referred vs tenure')\n",
    "plt.xlabel('Customer tenure')\n",
    "plt.ylabel('# referrals')\n",
    "plt.xticks(rotation=45)\n",
    "plt.show()"
   ]
  },
  {
   "cell_type": "code",
   "execution_count": 89,
   "metadata": {},
   "outputs": [
    {
     "data": {
      "image/png": "[encoded data removed]",
      "text/plain": [
       "<Figure size 432x288 with 1 Axes>"
      ]
     },
     "metadata": {
      "needs_background": "light"
     },
     "output_type": "display_data"
    }
   ],
   "source": [
    "sb.scatterplot(data=strat_2, x='tenure', y='times_referred')\n",
    "plt.title('Times referred vs tenure')\n",
    "plt.xlabel('Customer tenure (days)')\n",
    "plt.ylabel('# referrals')\n",
    "plt.show()"
   ]
  },
  {
   "cell_type": "code",
   "execution_count": 96,
   "metadata": {},
   "outputs": [
    {
     "data": {
      "text/plain": [
       "<matplotlib.axes._subplots.AxesSubplot at 0x12bf45a50>"
      ]
     },
     "execution_count": 96,
     "metadata": {},
     "output_type": "execute_result"
    },
    {
     "data": {
      "image/png": "[encoded data removed]",
      "text/plain": [
       "<Figure size 432x288 with 2 Axes>"
      ]
     },
     "metadata": {
      "needs_background": "light"
     },
     "output_type": "display_data"
    }
   ],
   "source": [
    "strat_2.plot(kind='hexbin', x='tenure', y='times_referred', gridsize=20)"
   ]
  },
  {
   "cell_type": "markdown",
   "metadata": {},
   "source": [
    "# 2. Sign-up channel and referral behavior\n",
    "\n",
    "Compare customers by sign-up channel.\n",
    "\n",
    "1. First referral behavior by sign-up channel\n",
    "2. Number of referrals by sign-up channel"
   ]
  },
  {
   "cell_type": "markdown",
   "metadata": {},
   "source": [
    "### 2.1 Data prep\n"
   ]
  },
  {
   "cell_type": "code",
   "execution_count": 99,
   "metadata": {},
   "outputs": [
    {
     "data": {
      "text/html": [
       "<div>\n",
       "<style scoped>\n",
       "    .dataframe tbody tr th:only-of-type {\n",
       "        vertical-align: middle;\n",
       "    }\n",
       "\n",
       "    .dataframe tbody tr th {\n",
       "        vertical-align: top;\n",
       "    }\n",
       "\n",
       "    .dataframe thead th {\n",
       "        text-align: right;\n",
       "    }\n",
       "</style>\n",
       "<table border=\"1\" class=\"dataframe\">\n",
       "  <thead>\n",
       "    <tr style=\"text-align: right;\">\n",
       "      <th></th>\n",
       "      <th>customer_id</th>\n",
       "      <th>sign_up_date</th>\n",
       "      <th>sign_up_channel</th>\n",
       "      <th>year_cust</th>\n",
       "      <th>month_cust</th>\n",
       "      <th>day_cust</th>\n",
       "      <th>referral_date</th>\n",
       "      <th>referrer_customer_id</th>\n",
       "      <th>sign_up_customer_id</th>\n",
       "      <th>year_ref</th>\n",
       "      <th>month_ref</th>\n",
       "      <th>day_ref</th>\n",
       "      <th>_merge</th>\n",
       "      <th>time_elapsed</th>\n",
       "      <th>time_elapsed_m</th>\n",
       "    </tr>\n",
       "  </thead>\n",
       "  <tbody>\n",
       "    <tr>\n",
       "      <th>0</th>\n",
       "      <td>2543</td>\n",
       "      <td>2021-04-26</td>\n",
       "      <td>Price Comparison Website</td>\n",
       "      <td>2021</td>\n",
       "      <td>4</td>\n",
       "      <td>26</td>\n",
       "      <td>NaT</td>\n",
       "      <td>NaN</td>\n",
       "      <td>NaN</td>\n",
       "      <td>NaN</td>\n",
       "      <td>NaN</td>\n",
       "      <td>NaN</td>\n",
       "      <td>left_only</td>\n",
       "      <td>NaN</td>\n",
       "      <td>No referral</td>\n",
       "    </tr>\n",
       "    <tr>\n",
       "      <th>1</th>\n",
       "      <td>2181</td>\n",
       "      <td>2021-07-24</td>\n",
       "      <td>Referral</td>\n",
       "      <td>2021</td>\n",
       "      <td>7</td>\n",
       "      <td>24</td>\n",
       "      <td>NaT</td>\n",
       "      <td>NaN</td>\n",
       "      <td>NaN</td>\n",
       "      <td>NaN</td>\n",
       "      <td>NaN</td>\n",
       "      <td>NaN</td>\n",
       "      <td>left_only</td>\n",
       "      <td>NaN</td>\n",
       "      <td>No referral</td>\n",
       "    </tr>\n",
       "    <tr>\n",
       "      <th>2</th>\n",
       "      <td>2399</td>\n",
       "      <td>2020-10-11</td>\n",
       "      <td>Bulb Website</td>\n",
       "      <td>2020</td>\n",
       "      <td>10</td>\n",
       "      <td>11</td>\n",
       "      <td>NaT</td>\n",
       "      <td>NaN</td>\n",
       "      <td>NaN</td>\n",
       "      <td>NaN</td>\n",
       "      <td>NaN</td>\n",
       "      <td>NaN</td>\n",
       "      <td>left_only</td>\n",
       "      <td>NaN</td>\n",
       "      <td>No referral</td>\n",
       "    </tr>\n",
       "    <tr>\n",
       "      <th>3</th>\n",
       "      <td>674</td>\n",
       "      <td>2021-04-04</td>\n",
       "      <td>Referral</td>\n",
       "      <td>2021</td>\n",
       "      <td>4</td>\n",
       "      <td>4</td>\n",
       "      <td>2021-04-04</td>\n",
       "      <td>674.0</td>\n",
       "      <td>1618.0</td>\n",
       "      <td>2021.0</td>\n",
       "      <td>4.0</td>\n",
       "      <td>4.0</td>\n",
       "      <td>both</td>\n",
       "      <td>0.0</td>\n",
       "      <td>&lt;30 days</td>\n",
       "    </tr>\n",
       "    <tr>\n",
       "      <th>4</th>\n",
       "      <td>2332</td>\n",
       "      <td>2021-09-05</td>\n",
       "      <td>Price Comparison Website</td>\n",
       "      <td>2021</td>\n",
       "      <td>9</td>\n",
       "      <td>5</td>\n",
       "      <td>NaT</td>\n",
       "      <td>NaN</td>\n",
       "      <td>NaN</td>\n",
       "      <td>NaN</td>\n",
       "      <td>NaN</td>\n",
       "      <td>NaN</td>\n",
       "      <td>left_only</td>\n",
       "      <td>NaN</td>\n",
       "      <td>No referral</td>\n",
       "    </tr>\n",
       "    <tr>\n",
       "      <th>...</th>\n",
       "      <td>...</td>\n",
       "      <td>...</td>\n",
       "      <td>...</td>\n",
       "      <td>...</td>\n",
       "      <td>...</td>\n",
       "      <td>...</td>\n",
       "      <td>...</td>\n",
       "      <td>...</td>\n",
       "      <td>...</td>\n",
       "      <td>...</td>\n",
       "      <td>...</td>\n",
       "      <td>...</td>\n",
       "      <td>...</td>\n",
       "      <td>...</td>\n",
       "      <td>...</td>\n",
       "    </tr>\n",
       "    <tr>\n",
       "      <th>1692</th>\n",
       "      <td>820</td>\n",
       "      <td>2021-07-17</td>\n",
       "      <td>Referral</td>\n",
       "      <td>2021</td>\n",
       "      <td>7</td>\n",
       "      <td>17</td>\n",
       "      <td>2021-09-05</td>\n",
       "      <td>820.0</td>\n",
       "      <td>1802.0</td>\n",
       "      <td>2021.0</td>\n",
       "      <td>9.0</td>\n",
       "      <td>5.0</td>\n",
       "      <td>both</td>\n",
       "      <td>50.0</td>\n",
       "      <td>&lt;60 days</td>\n",
       "    </tr>\n",
       "    <tr>\n",
       "      <th>1693</th>\n",
       "      <td>1945</td>\n",
       "      <td>2020-12-20</td>\n",
       "      <td>Price Comparison Website</td>\n",
       "      <td>2020</td>\n",
       "      <td>12</td>\n",
       "      <td>20</td>\n",
       "      <td>NaT</td>\n",
       "      <td>NaN</td>\n",
       "      <td>NaN</td>\n",
       "      <td>NaN</td>\n",
       "      <td>NaN</td>\n",
       "      <td>NaN</td>\n",
       "      <td>left_only</td>\n",
       "      <td>NaN</td>\n",
       "      <td>No referral</td>\n",
       "    </tr>\n",
       "    <tr>\n",
       "      <th>1694</th>\n",
       "      <td>2132</td>\n",
       "      <td>2021-11-29</td>\n",
       "      <td>Bulb Website</td>\n",
       "      <td>2021</td>\n",
       "      <td>11</td>\n",
       "      <td>29</td>\n",
       "      <td>NaT</td>\n",
       "      <td>NaN</td>\n",
       "      <td>NaN</td>\n",
       "      <td>NaN</td>\n",
       "      <td>NaN</td>\n",
       "      <td>NaN</td>\n",
       "      <td>left_only</td>\n",
       "      <td>NaN</td>\n",
       "      <td>No referral</td>\n",
       "    </tr>\n",
       "    <tr>\n",
       "      <th>1695</th>\n",
       "      <td>2228</td>\n",
       "      <td>2021-10-11</td>\n",
       "      <td>Referral</td>\n",
       "      <td>2021</td>\n",
       "      <td>10</td>\n",
       "      <td>11</td>\n",
       "      <td>NaT</td>\n",
       "      <td>NaN</td>\n",
       "      <td>NaN</td>\n",
       "      <td>NaN</td>\n",
       "      <td>NaN</td>\n",
       "      <td>NaN</td>\n",
       "      <td>left_only</td>\n",
       "      <td>NaN</td>\n",
       "      <td>No referral</td>\n",
       "    </tr>\n",
       "    <tr>\n",
       "      <th>1696</th>\n",
       "      <td>722</td>\n",
       "      <td>2020-02-21</td>\n",
       "      <td>Bulb Website</td>\n",
       "      <td>2020</td>\n",
       "      <td>2</td>\n",
       "      <td>21</td>\n",
       "      <td>2021-07-24</td>\n",
       "      <td>722.0</td>\n",
       "      <td>1679.0</td>\n",
       "      <td>2021.0</td>\n",
       "      <td>7.0</td>\n",
       "      <td>24.0</td>\n",
       "      <td>both</td>\n",
       "      <td>519.0</td>\n",
       "      <td>&gt;500 days</td>\n",
       "    </tr>\n",
       "  </tbody>\n",
       "</table>\n",
       "<p>1697 rows × 15 columns</p>\n",
       "</div>"
      ],
      "text/plain": [
       "      customer_id sign_up_date           sign_up_channel  year_cust  \\\n",
       "0            2543   2021-04-26  Price Comparison Website       2021   \n",
       "1            2181   2021-07-24                  Referral       2021   \n",
       "2            2399   2020-10-11              Bulb Website       2020   \n",
       "3             674   2021-04-04                  Referral       2021   \n",
       "4            2332   2021-09-05  Price Comparison Website       2021   \n",
       "...           ...          ...                       ...        ...   \n",
       "1692          820   2021-07-17                  Referral       2021   \n",
       "1693         1945   2020-12-20  Price Comparison Website       2020   \n",
       "1694         2132   2021-11-29              Bulb Website       2021   \n",
       "1695         2228   2021-10-11                  Referral       2021   \n",
       "1696          722   2020-02-21              Bulb Website       2020   \n",
       "\n",
       "      month_cust  day_cust referral_date  referrer_customer_id  \\\n",
       "0              4        26           NaT                   NaN   \n",
       "1              7        24           NaT                   NaN   \n",
       "2             10        11           NaT                   NaN   \n",
       "3              4         4    2021-04-04                 674.0   \n",
       "4              9         5           NaT                   NaN   \n",
       "...          ...       ...           ...                   ...   \n",
       "1692           7        17    2021-09-05                 820.0   \n",
       "1693          12        20           NaT                   NaN   \n",
       "1694          11        29           NaT                   NaN   \n",
       "1695          10        11           NaT                   NaN   \n",
       "1696           2        21    2021-07-24                 722.0   \n",
       "\n",
       "      sign_up_customer_id  year_ref  month_ref  day_ref     _merge  \\\n",
       "0                     NaN       NaN        NaN      NaN  left_only   \n",
       "1                     NaN       NaN        NaN      NaN  left_only   \n",
       "2                     NaN       NaN        NaN      NaN  left_only   \n",
       "3                  1618.0    2021.0        4.0      4.0       both   \n",
       "4                     NaN       NaN        NaN      NaN  left_only   \n",
       "...                   ...       ...        ...      ...        ...   \n",
       "1692               1802.0    2021.0        9.0      5.0       both   \n",
       "1693                  NaN       NaN        NaN      NaN  left_only   \n",
       "1694                  NaN       NaN        NaN      NaN  left_only   \n",
       "1695                  NaN       NaN        NaN      NaN  left_only   \n",
       "1696               1679.0    2021.0        7.0     24.0       both   \n",
       "\n",
       "      time_elapsed time_elapsed_m  \n",
       "0              NaN    No referral  \n",
       "1              NaN    No referral  \n",
       "2              NaN    No referral  \n",
       "3              0.0       <30 days  \n",
       "4              NaN    No referral  \n",
       "...            ...            ...  \n",
       "1692          50.0       <60 days  \n",
       "1693           NaN    No referral  \n",
       "1694           NaN    No referral  \n",
       "1695           NaN    No referral  \n",
       "1696         519.0      >500 days  \n",
       "\n",
       "[1697 rows x 15 columns]"
      ]
     },
     "execution_count": 99,
     "metadata": {},
     "output_type": "execute_result"
    }
   ],
   "source": [
    "strat_1"
   ]
  },
  {
   "cell_type": "markdown",
   "metadata": {},
   "source": [
    "### 2.2 Analysis"
   ]
  },
  {
   "cell_type": "code",
   "execution_count": 144,
   "metadata": {},
   "outputs": [
    {
     "data": {
      "text/html": [
       "<div>\n",
       "<style scoped>\n",
       "    .dataframe tbody tr th:only-of-type {\n",
       "        vertical-align: middle;\n",
       "    }\n",
       "\n",
       "    .dataframe tbody tr th {\n",
       "        vertical-align: top;\n",
       "    }\n",
       "\n",
       "    .dataframe thead th {\n",
       "        text-align: right;\n",
       "    }\n",
       "</style>\n",
       "<table border=\"1\" class=\"dataframe\">\n",
       "  <thead>\n",
       "    <tr style=\"text-align: right;\">\n",
       "      <th></th>\n",
       "      <th>customer_id</th>\n",
       "      <th>sign_up_date</th>\n",
       "      <th>sign_up_channel</th>\n",
       "      <th>year_cust</th>\n",
       "      <th>month_cust</th>\n",
       "      <th>day_cust</th>\n",
       "      <th>referral_date</th>\n",
       "      <th>referrer_customer_id</th>\n",
       "      <th>sign_up_customer_id</th>\n",
       "      <th>year_ref</th>\n",
       "      <th>month_ref</th>\n",
       "      <th>day_ref</th>\n",
       "      <th>_merge</th>\n",
       "      <th>referral</th>\n",
       "      <th>now</th>\n",
       "      <th>tenure</th>\n",
       "      <th>tenure_m</th>\n",
       "      <th>times_referred</th>\n",
       "    </tr>\n",
       "  </thead>\n",
       "  <tbody>\n",
       "    <tr>\n",
       "      <th>0</th>\n",
       "      <td>2543</td>\n",
       "      <td>2021-04-26</td>\n",
       "      <td>Price Comparison Website</td>\n",
       "      <td>2021</td>\n",
       "      <td>4</td>\n",
       "      <td>26</td>\n",
       "      <td>NaT</td>\n",
       "      <td>NaN</td>\n",
       "      <td>NaN</td>\n",
       "      <td>NaN</td>\n",
       "      <td>NaN</td>\n",
       "      <td>NaN</td>\n",
       "      <td>left_only</td>\n",
       "      <td>0</td>\n",
       "      <td>2022-02-03</td>\n",
       "      <td>283</td>\n",
       "      <td>&lt;300 days</td>\n",
       "      <td>0</td>\n",
       "    </tr>\n",
       "    <tr>\n",
       "      <th>1</th>\n",
       "      <td>2181</td>\n",
       "      <td>2021-07-24</td>\n",
       "      <td>Referral</td>\n",
       "      <td>2021</td>\n",
       "      <td>7</td>\n",
       "      <td>24</td>\n",
       "      <td>NaT</td>\n",
       "      <td>NaN</td>\n",
       "      <td>NaN</td>\n",
       "      <td>NaN</td>\n",
       "      <td>NaN</td>\n",
       "      <td>NaN</td>\n",
       "      <td>left_only</td>\n",
       "      <td>0</td>\n",
       "      <td>2022-02-03</td>\n",
       "      <td>194</td>\n",
       "      <td>&lt;200 days</td>\n",
       "      <td>0</td>\n",
       "    </tr>\n",
       "    <tr>\n",
       "      <th>2</th>\n",
       "      <td>2399</td>\n",
       "      <td>2020-10-11</td>\n",
       "      <td>Bulb Website</td>\n",
       "      <td>2020</td>\n",
       "      <td>10</td>\n",
       "      <td>11</td>\n",
       "      <td>NaT</td>\n",
       "      <td>NaN</td>\n",
       "      <td>NaN</td>\n",
       "      <td>NaN</td>\n",
       "      <td>NaN</td>\n",
       "      <td>NaN</td>\n",
       "      <td>left_only</td>\n",
       "      <td>0</td>\n",
       "      <td>2022-02-03</td>\n",
       "      <td>480</td>\n",
       "      <td>&lt;500 days</td>\n",
       "      <td>0</td>\n",
       "    </tr>\n",
       "    <tr>\n",
       "      <th>3</th>\n",
       "      <td>674</td>\n",
       "      <td>2021-04-04</td>\n",
       "      <td>Referral</td>\n",
       "      <td>2021</td>\n",
       "      <td>4</td>\n",
       "      <td>4</td>\n",
       "      <td>2021-04-04</td>\n",
       "      <td>674.0</td>\n",
       "      <td>1618.0</td>\n",
       "      <td>2021.0</td>\n",
       "      <td>4.0</td>\n",
       "      <td>4.0</td>\n",
       "      <td>both</td>\n",
       "      <td>1</td>\n",
       "      <td>2022-02-03</td>\n",
       "      <td>305</td>\n",
       "      <td>&lt;400 days</td>\n",
       "      <td>1</td>\n",
       "    </tr>\n",
       "    <tr>\n",
       "      <th>4</th>\n",
       "      <td>2332</td>\n",
       "      <td>2021-09-05</td>\n",
       "      <td>Price Comparison Website</td>\n",
       "      <td>2021</td>\n",
       "      <td>9</td>\n",
       "      <td>5</td>\n",
       "      <td>NaT</td>\n",
       "      <td>NaN</td>\n",
       "      <td>NaN</td>\n",
       "      <td>NaN</td>\n",
       "      <td>NaN</td>\n",
       "      <td>NaN</td>\n",
       "      <td>left_only</td>\n",
       "      <td>0</td>\n",
       "      <td>2022-02-03</td>\n",
       "      <td>151</td>\n",
       "      <td>&lt;200 days</td>\n",
       "      <td>0</td>\n",
       "    </tr>\n",
       "    <tr>\n",
       "      <th>...</th>\n",
       "      <td>...</td>\n",
       "      <td>...</td>\n",
       "      <td>...</td>\n",
       "      <td>...</td>\n",
       "      <td>...</td>\n",
       "      <td>...</td>\n",
       "      <td>...</td>\n",
       "      <td>...</td>\n",
       "      <td>...</td>\n",
       "      <td>...</td>\n",
       "      <td>...</td>\n",
       "      <td>...</td>\n",
       "      <td>...</td>\n",
       "      <td>...</td>\n",
       "      <td>...</td>\n",
       "      <td>...</td>\n",
       "      <td>...</td>\n",
       "      <td>...</td>\n",
       "    </tr>\n",
       "    <tr>\n",
       "      <th>1820</th>\n",
       "      <td>820</td>\n",
       "      <td>2021-07-17</td>\n",
       "      <td>Referral</td>\n",
       "      <td>2021</td>\n",
       "      <td>7</td>\n",
       "      <td>17</td>\n",
       "      <td>2021-09-05</td>\n",
       "      <td>820.0</td>\n",
       "      <td>1802.0</td>\n",
       "      <td>2021.0</td>\n",
       "      <td>9.0</td>\n",
       "      <td>5.0</td>\n",
       "      <td>both</td>\n",
       "      <td>1</td>\n",
       "      <td>2022-02-03</td>\n",
       "      <td>201</td>\n",
       "      <td>&lt;300 days</td>\n",
       "      <td>1</td>\n",
       "    </tr>\n",
       "    <tr>\n",
       "      <th>1821</th>\n",
       "      <td>1945</td>\n",
       "      <td>2020-12-20</td>\n",
       "      <td>Price Comparison Website</td>\n",
       "      <td>2020</td>\n",
       "      <td>12</td>\n",
       "      <td>20</td>\n",
       "      <td>NaT</td>\n",
       "      <td>NaN</td>\n",
       "      <td>NaN</td>\n",
       "      <td>NaN</td>\n",
       "      <td>NaN</td>\n",
       "      <td>NaN</td>\n",
       "      <td>left_only</td>\n",
       "      <td>0</td>\n",
       "      <td>2022-02-03</td>\n",
       "      <td>410</td>\n",
       "      <td>&lt;500 days</td>\n",
       "      <td>0</td>\n",
       "    </tr>\n",
       "    <tr>\n",
       "      <th>1822</th>\n",
       "      <td>2132</td>\n",
       "      <td>2021-11-29</td>\n",
       "      <td>Bulb Website</td>\n",
       "      <td>2021</td>\n",
       "      <td>11</td>\n",
       "      <td>29</td>\n",
       "      <td>NaT</td>\n",
       "      <td>NaN</td>\n",
       "      <td>NaN</td>\n",
       "      <td>NaN</td>\n",
       "      <td>NaN</td>\n",
       "      <td>NaN</td>\n",
       "      <td>left_only</td>\n",
       "      <td>0</td>\n",
       "      <td>2022-02-03</td>\n",
       "      <td>66</td>\n",
       "      <td>&lt;60 days</td>\n",
       "      <td>0</td>\n",
       "    </tr>\n",
       "    <tr>\n",
       "      <th>1823</th>\n",
       "      <td>2228</td>\n",
       "      <td>2021-10-11</td>\n",
       "      <td>Referral</td>\n",
       "      <td>2021</td>\n",
       "      <td>10</td>\n",
       "      <td>11</td>\n",
       "      <td>NaT</td>\n",
       "      <td>NaN</td>\n",
       "      <td>NaN</td>\n",
       "      <td>NaN</td>\n",
       "      <td>NaN</td>\n",
       "      <td>NaN</td>\n",
       "      <td>left_only</td>\n",
       "      <td>0</td>\n",
       "      <td>2022-02-03</td>\n",
       "      <td>115</td>\n",
       "      <td>&lt;200 days</td>\n",
       "      <td>0</td>\n",
       "    </tr>\n",
       "    <tr>\n",
       "      <th>1824</th>\n",
       "      <td>722</td>\n",
       "      <td>2020-02-21</td>\n",
       "      <td>Bulb Website</td>\n",
       "      <td>2020</td>\n",
       "      <td>2</td>\n",
       "      <td>21</td>\n",
       "      <td>2021-07-24</td>\n",
       "      <td>722.0</td>\n",
       "      <td>1679.0</td>\n",
       "      <td>2021.0</td>\n",
       "      <td>7.0</td>\n",
       "      <td>24.0</td>\n",
       "      <td>both</td>\n",
       "      <td>1</td>\n",
       "      <td>2022-02-03</td>\n",
       "      <td>713</td>\n",
       "      <td>&gt;500 days</td>\n",
       "      <td>1</td>\n",
       "    </tr>\n",
       "  </tbody>\n",
       "</table>\n",
       "<p>1825 rows × 18 columns</p>\n",
       "</div>"
      ],
      "text/plain": [
       "      customer_id sign_up_date           sign_up_channel  year_cust  \\\n",
       "0            2543   2021-04-26  Price Comparison Website       2021   \n",
       "1            2181   2021-07-24                  Referral       2021   \n",
       "2            2399   2020-10-11              Bulb Website       2020   \n",
       "3             674   2021-04-04                  Referral       2021   \n",
       "4            2332   2021-09-05  Price Comparison Website       2021   \n",
       "...           ...          ...                       ...        ...   \n",
       "1820          820   2021-07-17                  Referral       2021   \n",
       "1821         1945   2020-12-20  Price Comparison Website       2020   \n",
       "1822         2132   2021-11-29              Bulb Website       2021   \n",
       "1823         2228   2021-10-11                  Referral       2021   \n",
       "1824          722   2020-02-21              Bulb Website       2020   \n",
       "\n",
       "      month_cust  day_cust referral_date  referrer_customer_id  \\\n",
       "0              4        26           NaT                   NaN   \n",
       "1              7        24           NaT                   NaN   \n",
       "2             10        11           NaT                   NaN   \n",
       "3              4         4    2021-04-04                 674.0   \n",
       "4              9         5           NaT                   NaN   \n",
       "...          ...       ...           ...                   ...   \n",
       "1820           7        17    2021-09-05                 820.0   \n",
       "1821          12        20           NaT                   NaN   \n",
       "1822          11        29           NaT                   NaN   \n",
       "1823          10        11           NaT                   NaN   \n",
       "1824           2        21    2021-07-24                 722.0   \n",
       "\n",
       "      sign_up_customer_id  year_ref  month_ref  day_ref     _merge  referral  \\\n",
       "0                     NaN       NaN        NaN      NaN  left_only         0   \n",
       "1                     NaN       NaN        NaN      NaN  left_only         0   \n",
       "2                     NaN       NaN        NaN      NaN  left_only         0   \n",
       "3                  1618.0    2021.0        4.0      4.0       both         1   \n",
       "4                     NaN       NaN        NaN      NaN  left_only         0   \n",
       "...                   ...       ...        ...      ...        ...       ...   \n",
       "1820               1802.0    2021.0        9.0      5.0       both         1   \n",
       "1821                  NaN       NaN        NaN      NaN  left_only         0   \n",
       "1822                  NaN       NaN        NaN      NaN  left_only         0   \n",
       "1823                  NaN       NaN        NaN      NaN  left_only         0   \n",
       "1824               1679.0    2021.0        7.0     24.0       both         1   \n",
       "\n",
       "            now  tenure   tenure_m  times_referred  \n",
       "0    2022-02-03     283  <300 days               0  \n",
       "1    2022-02-03     194  <200 days               0  \n",
       "2    2022-02-03     480  <500 days               0  \n",
       "3    2022-02-03     305  <400 days               1  \n",
       "4    2022-02-03     151  <200 days               0  \n",
       "...         ...     ...        ...             ...  \n",
       "1820 2022-02-03     201  <300 days               1  \n",
       "1821 2022-02-03     410  <500 days               0  \n",
       "1822 2022-02-03      66   <60 days               0  \n",
       "1823 2022-02-03     115  <200 days               0  \n",
       "1824 2022-02-03     713  >500 days               1  \n",
       "\n",
       "[1825 rows x 18 columns]"
      ]
     },
     "execution_count": 144,
     "metadata": {},
     "output_type": "execute_result"
    }
   ],
   "source": [
    "strat_2"
   ]
  },
  {
   "cell_type": "code",
   "execution_count": 130,
   "metadata": {
    "scrolled": true
   },
   "outputs": [
    {
     "data": {
      "image/png": "[encoded data removed]",
      "text/plain": [
       "<Figure size 864x432 with 1 Axes>"
      ]
     },
     "metadata": {
      "needs_background": "light"
     },
     "output_type": "display_data"
    }
   ],
   "source": [
    "plt.figure(figsize=(12,6))\n",
    "sb.countplot(data=strat_1, x='time_elapsed_m', hue='sign_up_channel', palette='coolwarm')\n",
    "\n",
    "lab = (\"Price Comparison Website\", \"Referral\", \"Own website\")\n",
    "plt.legend(labels=lab, bbox_to_anchor=(1, 1.02))\n",
    "plt.xticks(rotation=45)\n",
    "plt.xlabel('Time elapsed until first referral')\n",
    "plt.title('Time elapsed until first referral by sign-up channel')\n",
    "plt.show()"
   ]
  },
  {
   "cell_type": "code",
   "execution_count": 139,
   "metadata": {},
   "outputs": [
    {
     "data": {
      "image/png": "[encoded data removed]",
      "text/plain": [
       "<Figure size 864x432 with 1 Axes>"
      ]
     },
     "metadata": {
      "needs_background": "light"
     },
     "output_type": "display_data"
    }
   ],
   "source": [
    "plt.figure(figsize=(12,6))\n",
    "\n",
    "sb.countplot(data=strat_1, x='sign_up_channel', hue='time_elapsed_m', palette='coolwarm')\n",
    "\n",
    "plt.legend(bbox_to_anchor=(1.15, 1.02))\n",
    "plt.xlabel('Time elapsed until first referral')\n",
    "plt.xticks(np.arange(3), lab)\n",
    "plt.title('Time elapsed until first referral by sign-up channel')\n",
    "plt.show()"
   ]
  },
  {
   "cell_type": "code",
   "execution_count": 143,
   "metadata": {},
   "outputs": [
    {
     "data": {
      "text/plain": [
       "Text(0.5, 1.0, 'Sign up channel')"
      ]
     },
     "execution_count": 143,
     "metadata": {},
     "output_type": "execute_result"
    },
    {
     "data": {
      "image/png": "[encoded data removed]",
      "text/plain": [
       "<Figure size 432x288 with 1 Axes>"
      ]
     },
     "metadata": {},
     "output_type": "display_data"
    }
   ],
   "source": [
    "figure, axes = plt.subplots()\n",
    "three_lab = (\"Price Comparison Website\", \"Own Website\", \"Referral\")\n",
    "\n",
    "# Draw the pie chart\n",
    "axes.pie(cust['sign_up_channel'].value_counts(), labels=three_lab, startangle=90, autopct='%1.1f')\n",
    "axes.axis('equal')\n",
    "\n",
    "plt.title('Sign up channel')"
   ]
  },
  {
   "cell_type": "code",
   "execution_count": 152,
   "metadata": {},
   "outputs": [
    {
     "data": {
      "image/png": "[encoded data removed]",
      "text/plain": [
       "<Figure size 864x432 with 1 Axes>"
      ]
     },
     "metadata": {
      "needs_background": "light"
     },
     "output_type": "display_data"
    }
   ],
   "source": [
    "plt.figure(figsize=(12,6))\n",
    "sb.countplot(data=strat_2, x='tenure_m', hue='sign_up_channel', palette='coolwarm')\n",
    "\n",
    "lab = (\"Price Comparison Website\", \"Referral\", \"Own website\")\n",
    "plt.legend(labels=lab)\n",
    "plt.xticks(rotation=45)\n",
    "plt.title('Customer tenure')\n",
    "plt.show()"
   ]
  },
  {
   "cell_type": "code",
   "execution_count": 150,
   "metadata": {},
   "outputs": [
    {
     "data": {
      "image/png": "[encoded data removed]",
      "text/plain": [
       "<Figure size 864x432 with 1 Axes>"
      ]
     },
     "metadata": {
      "needs_background": "light"
     },
     "output_type": "display_data"
    }
   ],
   "source": [
    "plt.figure(figsize=(12,6))\n",
    "\n",
    "sb.countplot(data=strat_2, x='sign_up_channel', hue='tenure_m', palette='coolwarm')\n",
    "\n",
    "plt.legend(bbox_to_anchor=(1.15, 1.02))\n",
    "plt.xticks(np.arange(3), lab)\n",
    "plt.title('Tenure')\n",
    "plt.show()"
   ]
  },
  {
   "cell_type": "code",
   "execution_count": 155,
   "metadata": {},
   "outputs": [
    {
     "data": {
      "image/png": "[encoded data removed]",
      "text/plain": [
       "<Figure size 864x432 with 1 Axes>"
      ]
     },
     "metadata": {
      "needs_background": "light"
     },
     "output_type": "display_data"
    }
   ],
   "source": [
    "plt.figure(figsize=(12,6))\n",
    "\n",
    "sb.barplot(data=strat_2, x='sign_up_channel', y='times_referred', hue='tenure_m', palette='coolwarm')\n",
    "\n",
    "plt.legend(bbox_to_anchor=(1.15, 1.02))\n",
    "plt.xticks(np.arange(3), lab)\n",
    "plt.title('Tenure')\n",
    "plt.show()"
   ]
  },
  {
   "cell_type": "code",
   "execution_count": 169,
   "metadata": {},
   "outputs": [
    {
     "data": {
      "image/png": "[encoded data removed]",
      "text/plain": [
       "<Figure size 1080x360 with 3 Axes>"
      ]
     },
     "metadata": {
      "needs_background": "light"
     },
     "output_type": "display_data"
    }
   ],
   "source": [
    "sb.catplot(data=strat_2, x='tenure_m', y='times_referred', col='sign_up_channel')\n",
    "plt.show()"
   ]
  },
  {
   "cell_type": "code",
   "execution_count": 171,
   "metadata": {},
   "outputs": [
    {
     "data": {
      "text/plain": [
       "<seaborn.axisgrid.FacetGrid at 0x131003b90>"
      ]
     },
     "execution_count": 171,
     "metadata": {},
     "output_type": "execute_result"
    },
    {
     "data": {
      "image/png": "[encoded data removed]",
      "text/plain": [
       "<Figure size 360x360 with 1 Axes>"
      ]
     },
     "metadata": {
      "needs_background": "light"
     },
     "output_type": "display_data"
    }
   ],
   "source": [
    "sb.catplot(data=strat_2, y='times_referred', x='sign_up_channel')"
   ]
  },
  {
   "cell_type": "code",
   "execution_count": 172,
   "metadata": {},
   "outputs": [
    {
     "data": {
      "text/plain": [
       "<matplotlib.axes._subplots.AxesSubplot at 0x12ea5d650>"
      ]
     },
     "execution_count": 172,
     "metadata": {},
     "output_type": "execute_result"
    },
    {
     "data": {
      "image/png": "[encoded data removed]",
      "text/plain": [
       "<Figure size 432x288 with 1 Axes>"
      ]
     },
     "metadata": {
      "needs_background": "light"
     },
     "output_type": "display_data"
    }
   ],
   "source": [
    "sb.scatterplot(data = strat_2, x='times_referred', y='tenure', hue='sign_up_channel')"
   ]
  },
  {
   "cell_type": "markdown",
   "metadata": {},
   "source": [
    "### 2.3 Correlation\n",
    "\n",
    "Chi square test to see if the sign up channel and the referal numbers are truly related."
   ]
  },
  {
   "cell_type": "code",
   "execution_count": 179,
   "metadata": {},
   "outputs": [],
   "source": [
    "ordinal_mapping = {\n",
    "    k: i\n",
    "    for i, k in enumerate(strat_2['sign_up_channel'].unique(), 1) \n",
    "}\n",
    "strat_2['channel'] = strat_2['sign_up_channel'].map(ordinal_mapping)"
   ]
  },
  {
   "cell_type": "code",
   "execution_count": 180,
   "metadata": {},
   "outputs": [],
   "source": [
    "strat_2['referred_or_no'] = np.where(strat_2['times_referred'] > 0,1,0)"
   ]
  },
  {
   "cell_type": "code",
   "execution_count": 181,
   "metadata": {},
   "outputs": [],
   "source": [
    "from scipy.stats import chisquare"
   ]
  },
  {
   "cell_type": "code",
   "execution_count": 182,
   "metadata": {},
   "outputs": [],
   "source": [
    "sign_up_channel_exp = [33.3, 33.3, 33.3]\n",
    "sign_up_channel_actual = list(round(strat_2['channel'].value_counts()/ len(strat_2) *100, 1))"
   ]
  },
  {
   "cell_type": "code",
   "execution_count": 183,
   "metadata": {},
   "outputs": [
    {
     "data": {
      "text/plain": [
       "Power_divergenceResult(statistic=7.322822822822824, pvalue=0.02569621918283938)"
      ]
     },
     "execution_count": 183,
     "metadata": {},
     "output_type": "execute_result"
    }
   ],
   "source": [
    "chisquare(sign_up_channel_actual, sign_up_channel_exp)"
   ]
  },
  {
   "cell_type": "markdown",
   "metadata": {},
   "source": [
    "The above shows that there is about 9% chance we'see this result if the sign up channel was truly random. So sign up channel is affected by something.\n",
    "\n",
    "Similar conclusion for referal behavior - 0% percent this is a random behavior - something is influencing referring."
   ]
  },
  {
   "cell_type": "markdown",
   "metadata": {},
   "source": [
    "Here, I want to test if the mean number of referals across three sign up groups is the same."
   ]
  },
  {
   "cell_type": "code",
   "execution_count": 88,
   "metadata": {},
   "outputs": [],
   "source": [
    "from scipy import stats\n",
    "from statsmodels.formula.api import ols\n",
    "import statsmodels.api as sm\n"
   ]
  },
  {
   "cell_type": "code",
   "execution_count": 89,
   "metadata": {},
   "outputs": [
    {
     "name": "stdout",
     "output_type": "stream",
     "text": [
      "43.44411771695928 3.984736888130811e-19\n"
     ]
    }
   ],
   "source": [
    "F, p = stats.f_oneway(strat_2[strat_2['sign_up_channel']=='Price Comparison Website']['sum'],\n",
    "                      strat_2[strat_2['sign_up_channel']=='Bulb Website']['sum'],\n",
    "                      strat_2[strat_2['sign_up_channel']=='Referral']['sum'])\n",
    "print(F, p)\n"
   ]
  },
  {
   "cell_type": "code",
   "execution_count": 99,
   "metadata": {},
   "outputs": [],
   "source": [
    "#plot mean referal count by each group\n",
    "means = []\n",
    "for x in strat_2['sign_up_channel'].unique():\n",
    "    data = strat_2[strat_2['sign_up_channel']==x]\n",
    "    onemean = round(data['sum'].mean(),1)\n",
    "    means.append(onemean)\n",
    "    means\n",
    "    \n",
    "means    "
   ]
  },
  {
   "cell_type": "code",
   "execution_count": 106,
   "metadata": {},
   "outputs": [
    {
     "data": {
      "text/plain": [
       "array(['Price Comparison Website', 'Bulb Website', 'Referral'],\n",
       "      dtype=object)"
      ]
     },
     "execution_count": 106,
     "metadata": {},
     "output_type": "execute_result"
    }
   ],
   "source": [
    "strat_2['sign_up_channel'].unique()"
   ]
  },
  {
   "cell_type": "code",
   "execution_count": 113,
   "metadata": {},
   "outputs": [
    {
     "data": {
      "image/png": "[encoded data removed]",
      "text/plain": [
       "<Figure size 432x288 with 1 Axes>"
      ]
     },
     "metadata": {
      "needs_background": "light"
     },
     "output_type": "display_data"
    }
   ],
   "source": [
    "means = {'Price Comparison Website': 0.2, 'Website': 0.5, 'Referral': 0.8}\n",
    "\n",
    "plt.bar(range(len(means)), means.values(), align='center')\n",
    "plt.xticks(range(len(means)), list(means.keys()))\n",
    "plt.title('Mean referral rate is closest to 1 in the referral group')\n",
    "plt.show()"
   ]
  },
  {
   "cell_type": "code",
   "execution_count": 114,
   "metadata": {},
   "outputs": [
    {
     "data": {
      "text/html": [
       "<table class=\"simpletable\">\n",
       "<caption>OLS Regression Results</caption>\n",
       "<tr>\n",
       "  <th>Dep. Variable:</th>           <td>sum</td>       <th>  R-squared:         </th> <td>   0.049</td>\n",
       "</tr>\n",
       "<tr>\n",
       "  <th>Model:</th>                   <td>OLS</td>       <th>  Adj. R-squared:    </th> <td>   0.048</td>\n",
       "</tr>\n",
       "<tr>\n",
       "  <th>Method:</th>             <td>Least Squares</td>  <th>  F-statistic:       </th> <td>   43.44</td>\n",
       "</tr>\n",
       "<tr>\n",
       "  <th>Date:</th>             <td>Thu, 28 Nov 2019</td> <th>  Prob (F-statistic):</th> <td>3.98e-19</td>\n",
       "</tr>\n",
       "<tr>\n",
       "  <th>Time:</th>                 <td>18:00:02</td>     <th>  Log-Likelihood:    </th> <td> -2548.7</td>\n",
       "</tr>\n",
       "<tr>\n",
       "  <th>No. Observations:</th>      <td>  1697</td>      <th>  AIC:               </th> <td>   5103.</td>\n",
       "</tr>\n",
       "<tr>\n",
       "  <th>Df Residuals:</th>          <td>  1694</td>      <th>  BIC:               </th> <td>   5120.</td>\n",
       "</tr>\n",
       "<tr>\n",
       "  <th>Df Model:</th>              <td>     2</td>      <th>                     </th>     <td> </td>   \n",
       "</tr>\n",
       "<tr>\n",
       "  <th>Covariance Type:</th>      <td>nonrobust</td>    <th>                     </th>     <td> </td>   \n",
       "</tr>\n",
       "</table>\n",
       "<table class=\"simpletable\">\n",
       "<tr>\n",
       "                         <td></td>                           <th>coef</th>     <th>std err</th>      <th>t</th>      <th>P>|t|</th>  <th>[0.025</th>    <th>0.975]</th>  \n",
       "</tr>\n",
       "<tr>\n",
       "  <th>Intercept</th>                                      <td>    0.5467</td> <td>    0.058</td> <td>    9.446</td> <td> 0.000</td> <td>    0.433</td> <td>    0.660</td>\n",
       "</tr>\n",
       "<tr>\n",
       "  <th>C(sign_up_channel)[T.Price Comparison Website]</th> <td>   -0.3080</td> <td>    0.070</td> <td>   -4.414</td> <td> 0.000</td> <td>   -0.445</td> <td>   -0.171</td>\n",
       "</tr>\n",
       "<tr>\n",
       "  <th>C(sign_up_channel)[T.Referral]</th>                 <td>    0.2479</td> <td>    0.074</td> <td>    3.361</td> <td> 0.001</td> <td>    0.103</td> <td>    0.393</td>\n",
       "</tr>\n",
       "</table>\n",
       "<table class=\"simpletable\">\n",
       "<tr>\n",
       "  <th>Omnibus:</th>       <td>3700.020</td> <th>  Durbin-Watson:     </th>   <td>   1.231</td>  \n",
       "</tr>\n",
       "<tr>\n",
       "  <th>Prob(Omnibus):</th>  <td> 0.000</td>  <th>  Jarque-Bera (JB):  </th> <td>20565983.298</td>\n",
       "</tr>\n",
       "<tr>\n",
       "  <th>Skew:</th>           <td>18.760</td>  <th>  Prob(JB):          </th>   <td>    0.00</td>  \n",
       "</tr>\n",
       "<tr>\n",
       "  <th>Kurtosis:</th>       <td>541.005</td> <th>  Cond. No.          </th>   <td>    4.68</td>  \n",
       "</tr>\n",
       "</table><br/><br/>Warnings:<br/>[1] Standard Errors assume that the covariance matrix of the errors is correctly specified."
      ],
      "text/plain": [
       "<class 'statsmodels.iolib.summary.Summary'>\n",
       "\"\"\"\n",
       "                            OLS Regression Results                            \n",
       "==============================================================================\n",
       "Dep. Variable:                    sum   R-squared:                       0.049\n",
       "Model:                            OLS   Adj. R-squared:                  0.048\n",
       "Method:                 Least Squares   F-statistic:                     43.44\n",
       "Date:                Thu, 28 Nov 2019   Prob (F-statistic):           3.98e-19\n",
       "Time:                        18:00:02   Log-Likelihood:                -2548.7\n",
       "No. Observations:                1697   AIC:                             5103.\n",
       "Df Residuals:                    1694   BIC:                             5120.\n",
       "Df Model:                           2                                         \n",
       "Covariance Type:            nonrobust                                         \n",
       "==================================================================================================================\n",
       "                                                     coef    std err          t      P>|t|      [0.025      0.975]\n",
       "------------------------------------------------------------------------------------------------------------------\n",
       "Intercept                                          0.5467      0.058      9.446      0.000       0.433       0.660\n",
       "C(sign_up_channel)[T.Price Comparison Website]    -0.3080      0.070     -4.414      0.000      -0.445      -0.171\n",
       "C(sign_up_channel)[T.Referral]                     0.2479      0.074      3.361      0.001       0.103       0.393\n",
       "==============================================================================\n",
       "Omnibus:                     3700.020   Durbin-Watson:                   1.231\n",
       "Prob(Omnibus):                  0.000   Jarque-Bera (JB):         20565983.298\n",
       "Skew:                          18.760   Prob(JB):                         0.00\n",
       "Kurtosis:                     541.005   Cond. No.                         4.68\n",
       "==============================================================================\n",
       "\n",
       "Warnings:\n",
       "[1] Standard Errors assume that the covariance matrix of the errors is correctly specified.\n",
       "\"\"\""
      ]
     },
     "execution_count": 114,
     "metadata": {},
     "output_type": "execute_result"
    }
   ],
   "source": [
    "ols = ols('sum ~ C(sign_up_channel)', data=table_4).fit()\n",
    "ols.summary()"
   ]
  },
  {
   "cell_type": "code",
   "execution_count": null,
   "metadata": {},
   "outputs": [],
   "source": []
  },
  {
   "cell_type": "markdown",
   "metadata": {},
   "source": [
    "Overall the model is significiant, F(2,1822)= 60.62, basically zero p-value. This tells us that there is a significant difference in the group means. The coefficients, are the difference in mean between the control group and the respective group listed. The intercept is the mean for the Bulb Wesite group (3.4), Referral group’s coefficient is -1.9, and Price Comparison Website's coefficient is -3.1. Looking at the p-values now (P>|t| in the table), Differences between all sign up groups are significant. There is no comparison between the Referral and the Price Comparison Website group. "
   ]
  },
  {
   "cell_type": "markdown",
   "metadata": {},
   "source": [
    "**Answer 2**: Different sign up channels seem to have a relationship with referral behavior.\n",
    "\n",
    "The first strategy has indicated that most referals in the dataset were done by customers who themselves were refered. In general, people who became customers from Bulb Website are the smallest share of customers, almost equally likely to make a referral as to not make one. \n",
    "\n",
    "Customers who signed up from a price comparison websites, who make the majority of customers, are similarly likely to the Bulb Website signups to make a referral. However, these customers in their respective group, are much more likely not to refer anybody. Perhaps, this shows that these are pragmatic customers, who solely care about the price of energy and nothing else. They may also not be aware of the referral scheme, because they do not study Bulb beyond the price.\n",
    "\n",
    "Finally, the group in the middle, customers who signed up through referrals are more like to make referrals than not. We coudl guess that these customers are the most familiar with the option, because referral was their own access as customers. \n",
    "\n",
    "In my second strategy, I conducted the analysis of variance. With a significant F-test score, the results basically tell us that there is a statistically significant difference between each sign up group on the effect they have on the number of referrals made by a customer. The model also gives us an approximate effect of belonging to each group (positive/negative and by how much) on the number of referrals. In particular:\n",
    " - Sign up through Bulb Website (increase in referrals by 3.4)\n",
    " - Sign up through Price comparison wesite (increase in referals by 0.1)\n",
    " - Sign up through Referrals (increase in referals by 1.5)\n",
    " "
   ]
  },
  {
   "cell_type": "markdown",
   "metadata": {},
   "source": [
    "# 3. When/to whom send an email to nudge refering to friends\n",
    "\n",
    "From looking at the groups of customers who refer the least, it is the price comparison group.\n",
    "\n",
    "So these should be nudged."
   ]
  },
  {
   "cell_type": "markdown",
   "metadata": {},
   "source": [
    "look at the growth rate of referrals..."
   ]
  },
  {
   "cell_type": "code",
   "execution_count": 119,
   "metadata": {},
   "outputs": [
    {
     "data": {
      "image/png": "[encoded data removed]",
      "text/plain": [
       "<Figure size 864x432 with 1 Axes>"
      ]
     },
     "metadata": {
      "needs_background": "light"
     },
     "output_type": "display_data"
    }
   ],
   "source": [
    "ref['day_week'] = pd.to_datetime(ref['referral_date']).dt.weekday\n",
    "\n",
    "ref['day_week'].plot(kind='hist', bins=50, figsize=(12,6))\n",
    "plt.title('Days of week with most referals, ')\n",
    "plt.xlabel('Days of week')\n",
    "plt.ylabel('# Referrals')\n",
    "plt.xticks([0, 1, 2, 3, 4, 5, 6], ['Mon', 'Tues', 'Wed', \n",
    "                                                    'Thu', 'Fri', 'Sat', \n",
    "                                                    'Sun'])\n",
    "plt.show()"
   ]
  },
  {
   "cell_type": "code",
   "execution_count": null,
   "metadata": {},
   "outputs": [],
   "source": []
  },
  {
   "cell_type": "code",
   "execution_count": null,
   "metadata": {},
   "outputs": [],
   "source": [
    "\n",
    "    "
   ]
  },
  {
   "cell_type": "markdown",
   "metadata": {},
   "source": [
    "**Strategy 2**: at what point the number of referrals since signing up starts to decrease.\n",
    "\n",
    "To implement this strategy, I will plot the number of referals over time since signing up. I will plot this for each group separately."
   ]
  },
  {
   "cell_type": "code",
   "execution_count": 400,
   "metadata": {},
   "outputs": [
    {
     "data": {
      "image/png": "[encoded data removed]",
      "text/plain": [
       "<Figure size 864x432 with 1 Axes>"
      ]
     },
     "metadata": {
      "needs_background": "light"
     },
     "output_type": "display_data"
    },
    {
     "data": {
      "image/png": "[encoded data removed]",
      "text/plain": [
       "<Figure size 864x432 with 1 Axes>"
      ]
     },
     "metadata": {
      "needs_background": "light"
     },
     "output_type": "display_data"
    },
    {
     "data": {
      "image/png": "[encoded data removed]",
      "text/plain": [
       "<Figure size 864x432 with 1 Axes>"
      ]
     },
     "metadata": {
      "needs_background": "light"
     },
     "output_type": "display_data"
    }
   ],
   "source": [
    "import pylab as p\n",
    "\n",
    "for i in new_data['sign_up_channel'].unique():\n",
    "    q3 = new_data[new_data['sign_up_channel']==i]['time_elapsed'].dropna()\n",
    "    y,binEdges=np.histogram(q3,bins=40)\n",
    "    bincenters = 0.5*(binEdges[1:]+binEdges[:-1])\n",
    "    \n",
    "    plt.figure(figsize=(12,6))\n",
    "    plt.plot(bincenters,y,'-')\n",
    "    plt.title('Evolution of referrals with time, '+ i)\n",
    "    plt.xlabel('# Days')\n",
    "    plt.ylabel('# Referrals')\n",
    "    plt.show()\n",
    "    "
   ]
  },
  {
   "cell_type": "markdown",
   "metadata": {},
   "source": [
    "**Answer 3**: Similarly as in the previosu question, I used two strategies to answer the question.\n",
    "\n",
    "Firstly, I investigated referral calendar, by looking at different days of the week by each sign up group, when did most referrals happen. While the graphs give a by group view of the highest \"referral-traffic\", in general, weekends, in particular Saturdays, are when the customers are most likely to sit down and make a referral.\n",
    "\n",
    "Then, I looked overtime, how does referral behaviour change in each group. In general, most customers, if they make one, they will make them towards the beginning of their subscription to Bulb services. Overtime, the likelihood that the customer will make a referral drops. There are sly differences, however, in the sharpeness of the drop by each sign up group. Interestingly, the referral sign up group demonstrates the sharpest decrease in their referrals - the soonest after the signup. Other groups are still likely to make referrals slightly (at their own group's referal rate - just because the drop seems to be less steep, other groups still do not make more referrals than the Referral sign up group) longer.\n",
    "\n",
    "With more time, it would be possible to calculate a universal referal rate and plot it over time for a more accurate comparison between the groups."
   ]
  },
  {
   "cell_type": "markdown",
   "metadata": {},
   "source": [
    "# 4. Does the data suggest that the referral behaviour of Bulb members change overtime? What trends are expected and how to measure them?"
   ]
  },
  {
   "cell_type": "markdown",
   "metadata": {},
   "source": [
    "Overall, yes, the data so far has shown that referrals tend to decrease over time. The reasons can be their own customer experience over time, or generally, signing up to Bulb may seem less exciting after some time to tell your friends about it. \n",
    "\n",
    "Depending on what is the preferred way to measure future referrals (number of referrals per customer or the probability of referring), we could construct a basic linear (or a logistic regression - for a probability outcome variable) machine learning algorithm to predict referrals. \n",
    "\n",
    "Decision tree or random forest models can also be utilized to make such predictions, depending on how we decide to clasiffy the outcome variable (if we choose a continuous target variable, such as number of referals, and we see that the variable does vary a lot, a classification method would not be a good fit).\n",
    "\n",
    "More customer data can shed even more light on the analysis of referrals. For example, customer location information (geography, size of communities/neighbourhoods, postal codes) could help distinguishing social networks of customers who can make referrals to one another, allowing to predict growth geographically."
   ]
  },
  {
   "cell_type": "markdown",
   "metadata": {},
   "source": [
    "# 5. Are there any other actions you would recommend based on your analysis?"
   ]
  },
  {
   "cell_type": "markdown",
   "metadata": {},
   "source": [
    "In the previous answers I have listed possible improvements of my current analysis and interpretability that could be achieved with more time. In addition, to cater for consistently updated data, I would rewrite the code in an object-orientated way to make sure it is transferable and easy to run from different devices.\n",
    "\n",
    "Based on the analysis above, Referral sign up group should be nudged more to make referrals at the beginning of their tenure as customers. Price Comparison Groups could potentially benefit from more information to raise awareness of about the option and benefits of referring. Applicable for all groups, referral nudges could occur as the customers embark closer to a year of being customers. \n",
    "\n",
    "Finally, since customers who signed up through Bulb website, have a roughly equal likelihood to refer, it could be a good idea to try to increase customer sign up based through the website as well. This can be done through efforts in increasing website traffic."
   ]
  },
  {
   "cell_type": "code",
   "execution_count": null,
   "metadata": {},
   "outputs": [],
   "source": []
  }
 ],
 "metadata": {
  "kernelspec": {
   "display_name": "Python 3",
   "language": "python",
   "name": "python3"
  },
  "language_info": {
   "codemirror_mode": {
    "name": "ipython",
    "version": 3
   },
   "file_extension": ".py",
   "mimetype": "text/x-python",
   "name": "python",
   "nbconvert_exporter": "python",
   "pygments_lexer": "ipython3",
   "version": "3.7.5"
  }
 },
 "nbformat": 4,
 "nbformat_minor": 2
}
